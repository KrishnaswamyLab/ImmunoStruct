{
 "cells": [
  {
   "cell_type": "markdown",
   "id": "dffcfb6e-9ddf-49ea-822b-e9428b61c640",
   "metadata": {},
   "source": [
    "## Generate Protein Graphs Using Alphafold"
   ]
  },
  {
   "cell_type": "code",
   "execution_count": null,
   "id": "4266539f-1cfc-4180-8604-bd38c454d453",
   "metadata": {},
   "outputs": [],
   "source": [
    "import os\n",
    "import sys\n",
    "import tensorflow as tf\n",
    "import jax\n",
    "import pandas as pd\n",
    "import json\n",
    "import matplotlib.pyplot as plt\n",
    "import numpy as np\n",
    "import re\n",
    "import csv\n",
    "from tqdm import tqdm\n",
    "\n",
    "from tensorflow.python.ops.array_ops import sequence_mask\n",
    "from matplotlib.cbook import sanitize_sequence\n",
    "\n",
    "if jax.local_devices()[0].platform == 'cpu':\n",
    "  print(\"WARNING: no GPU detected, will be using CPU\")\n",
    "  DEVICE = \"cpu\"\n",
    "else:\n",
    "  print('Running on GPU')\n",
    "  DEVICE = \"gpu\"\n",
    "  # disable GPU on tensorflow\n",
    "  # tf.config.set_visible_devices([], 'GPU')\n",
    "\n",
    "if 'alphafold' not in sys.path:\n",
    "  sys.path.append('alphafold')\n",
    "if 'ColabFold/beta' not in sys.path:\n",
    "  sys.path.append('ColabFold/beta')\n",
    "\n",
    "import colabfold as cf\n",
    "import ColabFold.beta.colabfold_alphafold as cf_af\n",
    "\n",
    "if f\"tmp/bin\" not in os.environ['PATH']:\n",
    "  os.environ['PATH'] += f\":tmp/bin:tmp/scripts\"\n",
    "\n",
    "if not use_ptm and rank_by == \"pTMscore\":\n",
    "  print(\"WARNING: models will be ranked by pLDDT, 'use_ptm' is needed to compute pTMscore\")\n",
    "  rank_by = \"pLDDT\""
   ]
  },
  {
   "cell_type": "code",
   "execution_count": null,
   "id": "b1c2d9ab-e73b-4d74-9e20-fe2fe12efacc",
   "metadata": {},
   "outputs": [],
   "source": [
    "target_csv = \"D:\\\\Edward\\\\YALE\\\\CPSC\\\\552\\\\immunoai\\\\data\\\\hadrup_viral_data_csv.csv\""
   ]
  },
  {
   "cell_type": "code",
   "execution_count": null,
   "id": "0ee7f7c0-235a-4603-b63a-399d21ce258f",
   "metadata": {},
   "outputs": [],
   "source": [
    "with open(target_csv, \"r\") as f:\n",
    "  reader = csv.reader(f)\n",
    "  for line in tqdm(reader):\n",
    "    peptide = line[1] # line[2] for mut_pep\n",
    "    sequence = line[3]\n",
    "    sequence = sequence + \":\" + peptide\n",
    "\n",
    "    sequence_length = len(sequence)-1\n",
    "\n",
    "    I = cf_af.prep_inputs(sequence, jobname + sequence[-100:].replace(\":\", \"\"), homooligomer, clean=IN_COLAB)\n",
    "    mod_I = cf_af.prep_msa(I, msa_method, add_custom_msa, msa_format,\n",
    "                      pair_mode, pair_cov, pair_qid, TMP_DIR=\"tmp\")\n",
    "\n",
    "    feature_dict = cf_af.prep_feats(mod_I, clean=IN_COLAB)\n",
    "    Ls_plot = feature_dict[\"Ls\"]\n",
    "\n",
    "    # prep model options\n",
    "    opt = {\"N\":len(feature_dict[\"msa\"]),\n",
    "          \"L\":len(feature_dict[\"residue_index\"]),\n",
    "          \"use_ptm\":use_ptm,\n",
    "          \"use_turbo\":use_turbo,\n",
    "          \"num_relax\" : num_relax,\n",
    "          \"max_recycles\": max_recycles,\n",
    "          \"tol\":0.0,\n",
    "          \"num_ensemble\":num_ensemble,\n",
    "          \"max_msa_clusters\":max_msa_clusters,\n",
    "          \"max_extra_msa\":max_extra_msa,\n",
    "          \"is_training\":is_training}\n",
    "\n",
    "    if use_turbo:\n",
    "      if \"runner\" in dir():\n",
    "        # only recompile if options changed\n",
    "        runner = cf_af.prep_model_runner(opt, old_runner=runner)\n",
    "      else:\n",
    "        runner = cf_af.prep_model_runner(opt, params_loc='D:\\\\Edward\\\\YALE\\\\CPSC\\\\552\\\\immunoai\\\\alphafold\\\\alphafold\\\\data')\n",
    "\n",
    "    else:\n",
    "      runner = None\n",
    "\n",
    "    # run alphafold\n",
    "    cf_af.run_alphafold(feature_dict, opt, runner, num_models, num_samples, subsample_msa,\n",
    "                                          rank_by=rank_by, show_images=show_images, \n",
    "                                          params_loc='D:\\\\Edward\\\\YALE\\\\CPSC\\\\552\\\\immunoai\\\\alphafold\\\\alphafold\\\\data')\n"
   ]
  },
  {
   "cell_type": "code",
   "execution_count": null,
   "id": "244fde2a-2efe-4b01-b465-b13e178ce939",
   "metadata": {},
   "outputs": [],
   "source": []
  },
  {
   "cell_type": "markdown",
   "id": "713bcbd3-d7e0-4536-829f-0078494f3901",
   "metadata": {},
   "source": [
    "## Run Inference on Generated Proteins"
   ]
  },
  {
   "cell_type": "code",
   "execution_count": null,
   "id": "54a5c969-0647-402b-b0a8-2a77a65148c9",
   "metadata": {},
   "outputs": [],
   "source": [
    "import os\n",
    "import argparse\n",
    "import torch\n",
    "import numpy as np\n",
    "from dgl.dataloading import GraphDataLoader\n",
    "\n",
    "from data import ImmunoPredInferDataset, collate, SplitDataset\n",
    "from models.mapping import model_map\n",
    "from procedures import inference"
   ]
  },
  {
   "cell_type": "code",
   "execution_count": null,
   "id": "1c5bf1ba-963e-4308-9bd8-1c61eac00ccb",
   "metadata": {},
   "outputs": [],
   "source": [
    "## to fill with own values\n",
    "# model parameters\n",
    "model_name = \"HybridModelv2\"\n",
    "model_dir = \"$ROOT/results/PropIEDB_PropCancer_ImmunoCancer/\"\n",
    "model_filename = \"HybridModelv2.pt\"\n",
    "\n",
    "# Dataset parameters\n",
    "feature_size = 23\n",
    "coord_size = 3\n",
    "full_sequence = True\n",
    "\n",
    "# Data paths\n",
    "graph_dir = \"$ROOT/data/graph_pyg_IEDB/\"\n",
    "property_dir = \"$ROOT/data/complete_score_Mprops_1_2_smoothed_sasa_v2.txt\"\n",
    "hla_path = \"$ROOT/data/HLA_27_seqs_csv.csv\"\n",
    "\n",
    "device = torch.device(\"cuda\" if (torch.cuda.is_available()) else \"cpu\")\n",
    "\n",
    "config = parser.parse_args()\n",
    "config.feature_size = feature_size\n",
    "config.coord_size = coord_size\n",
    "config.model_dir = model_dir"
   ]
  },
  {
   "cell_type": "code",
   "execution_count": null,
   "id": "4b4d71c0-5fc5-4dc7-a86a-28a8f07ddda7",
   "metadata": {},
   "outputs": [],
   "source": [
    "dataset_ft = ImmunoPredInferDataset(config,\n",
    "                                        graph_directory=graph_dir,\n",
    "                                        property_path=property_dir,\n",
    "                                        hla_path=hla_path)\n",
    "dataset_ft = SplitDataset(dataset_ft, \"test\", binary=True, full=config.full_sequence)\n",
    "\n",
    "test_loader = GraphDataLoader(dataset_ft, batch_size=1, collate_fn=collate, shuffle=False)"
   ]
  },
  {
   "cell_type": "code",
   "execution_count": null,
   "id": "48e9e187-508c-4877-a000-241fb40b3b1b",
   "metadata": {},
   "outputs": [],
   "source": [
    "model_path = os.path.join(model_dir, model_filename)\n",
    "print(f'SAVED MODEL PATH: {model_path}')\n",
    "\n",
    "input_dim = 283 * 21 if config.full_sequence else 11 * 21\n",
    "model = model_map[config.model](vae_input_dim=input_dim, device=device)\n",
    "model.load_trained(model_path, new_head=False, map_location=device)\n",
    "model.to(device)"
   ]
  },
  {
   "cell_type": "code",
   "execution_count": null,
   "id": "d61b9d62-a4fb-44b9-8e07-d453d5507e84",
   "metadata": {},
   "outputs": [],
   "source": [
    "test_stats = inference(config, model, test_loader, device, return_raw_preds=True)\n",
    "\n",
    "sequences = dataset_ft.raw_full_sequence[np.array(dataset_ft.indices)]\n",
    "np.savetxt(f\"{config.model_dir}/predictions_PPI.txt\", np.stack([test_stats[\"predicted_probs\"], test_stats[\"true_targets\"], sequences], axis=1),\n",
    "           delimiter=\"\\t\", fmt=\"%s\", header=\"Predicted Immunogenicity\\tTrue Immunogenicity\\tSequence\", comments=\"\")\n",
    "print('DONE')"
   ]
  }
 ],
 "metadata": {
  "kernelspec": {
   "display_name": "Python 3 (ipykernel)",
   "language": "python",
   "name": "python3"
  },
  "language_info": {
   "codemirror_mode": {
    "name": "ipython",
    "version": 3
   },
   "file_extension": ".py",
   "mimetype": "text/x-python",
   "name": "python",
   "nbconvert_exporter": "python",
   "pygments_lexer": "ipython3",
   "version": "3.11.5"
  }
 },
 "nbformat": 4,
 "nbformat_minor": 5
}
