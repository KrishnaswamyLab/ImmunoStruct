{
 "cells": [
  {
   "cell_type": "code",
   "execution_count": 4,
   "id": "56f9dd05",
   "metadata": {},
   "outputs": [
    {
     "name": "stdout",
     "output_type": "stream",
     "text": [
      "extracted_folder_cancer2_full/graph_pyg_cancer/rank_1_prediction_ImmunoPKTHMTHHAVSDHEATLRCWALSFYPAEITLTWQRDGEDQTQDTELVETRPAGDGTFQKWAAVVVPSGQEQRYTCHVQHEGLPKPLTLRKLVVVGAVGV_b55f9.pt\n",
      "Data(edge_index=[2, 710], node_id=[189], coords=[189, 3], name='rank_1_prediction_ImmunoPKTHMTHHAVSDHEATLRCWALSFYPAEITLTWQRDGEDQTQDTELVETRPAGDGTFQKWAAVVVPSGQEQRYTCHVQHEGLPKPLTLRKLVVVGAVGV_b55f9', num_nodes=189, x=[189, 22])\n"
     ]
    }
   ],
   "source": [
    "import zipfile\n",
    "import os\n",
    "import torch\n",
    "\n",
    "# Specify the path to the ZIP file\n",
    "zip_file_path = 'graph_pyg_cancer.zip'\n",
    "\n",
    "\n",
    "# Specify the directory where the ZIP file should be extracted\n",
    "extract_path = 'extracted_folder_cancer2_full'\n",
    "\n",
    "# Unzipping the ZIP file\n",
    "with zipfile.ZipFile(zip_file_path, 'r') as zip_ref:\n",
    "    zip_ref.extractall(extract_path)\n",
    "\n",
    "# Listing out the files in the extracted directory\n",
    "for root, dirs, files in os.walk(extract_path):\n",
    "    for file in files:\n",
    "        if 'KLVVVGAVGV' in file:\n",
    "            print(os.path.join(root, file))\n",
    "            f2 = os.path.join(root, file)\n",
    "            g = torch.load(f2)\n",
    "            print(g)"
   ]
  },
  {
   "cell_type": "code",
   "execution_count": null,
   "id": "6e957c30",
   "metadata": {},
   "outputs": [],
   "source": [
    "\n",
    "\n"
   ]
  }
 ],
 "metadata": {
  "kernelspec": {
   "display_name": "Python 3 (ipykernel)",
   "language": "python",
   "name": "python3"
  },
  "language_info": {
   "codemirror_mode": {
    "name": "ipython",
    "version": 3
   },
   "file_extension": ".py",
   "mimetype": "text/x-python",
   "name": "python",
   "nbconvert_exporter": "python",
   "pygments_lexer": "ipython3",
   "version": "3.11.4"
  }
 },
 "nbformat": 4,
 "nbformat_minor": 5
}
