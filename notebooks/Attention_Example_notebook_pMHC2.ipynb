{
 "cells": [
  {
   "cell_type": "code",
   "execution_count": 1,
   "id": "8174cc91",
   "metadata": {},
   "outputs": [
    {
     "name": "stdout",
     "output_type": "stream",
     "text": [
      "\u001b[33mWARNING: Ignoring invalid distribution ~andas (/gpfs/gibbs/project/krishnaswamy_smita/kbg32/conda_envs/chem_relso_env/lib/python3.11/site-packages)\u001b[0m\u001b[33m\n",
      "\u001b[0mRequirement already satisfied: nglview in /gpfs/gibbs/project/krishnaswamy_smita/kbg32/conda_envs/chem_relso_env/lib/python3.11/site-packages (3.0.8)\n",
      "Requirement already satisfied: ipywidgets>=7 in /gpfs/gibbs/project/krishnaswamy_smita/kbg32/conda_envs/chem_relso_env/lib/python3.11/site-packages (from nglview) (8.0.6)\n",
      "Requirement already satisfied: jupyterlab-widgets in /gpfs/gibbs/project/krishnaswamy_smita/kbg32/conda_envs/chem_relso_env/lib/python3.11/site-packages (from nglview) (3.0.7)\n",
      "Requirement already satisfied: numpy in /gpfs/gibbs/project/krishnaswamy_smita/kbg32/conda_envs/chem_relso_env/lib/python3.11/site-packages (from nglview) (1.23.5)\n",
      "Requirement already satisfied: ipykernel>=4.5.1 in /gpfs/gibbs/project/krishnaswamy_smita/kbg32/conda_envs/chem_relso_env/lib/python3.11/site-packages (from ipywidgets>=7->nglview) (6.23.3)\n",
      "Requirement already satisfied: ipython>=6.1.0 in /gpfs/gibbs/project/krishnaswamy_smita/kbg32/conda_envs/chem_relso_env/lib/python3.11/site-packages (from ipywidgets>=7->nglview) (8.14.0)\n",
      "Requirement already satisfied: traitlets>=4.3.1 in /gpfs/gibbs/project/krishnaswamy_smita/kbg32/conda_envs/chem_relso_env/lib/python3.11/site-packages (from ipywidgets>=7->nglview) (5.9.0)\n",
      "Requirement already satisfied: widgetsnbextension~=4.0.7 in /gpfs/gibbs/project/krishnaswamy_smita/kbg32/conda_envs/chem_relso_env/lib/python3.11/site-packages (from ipywidgets>=7->nglview) (4.0.7)\n",
      "Requirement already satisfied: comm>=0.1.1 in /gpfs/gibbs/project/krishnaswamy_smita/kbg32/conda_envs/chem_relso_env/lib/python3.11/site-packages (from ipykernel>=4.5.1->ipywidgets>=7->nglview) (0.1.3)\n",
      "Requirement already satisfied: debugpy>=1.6.5 in /gpfs/gibbs/project/krishnaswamy_smita/kbg32/conda_envs/chem_relso_env/lib/python3.11/site-packages (from ipykernel>=4.5.1->ipywidgets>=7->nglview) (1.6.7)\n",
      "Requirement already satisfied: jupyter-client>=6.1.12 in /gpfs/gibbs/project/krishnaswamy_smita/kbg32/conda_envs/chem_relso_env/lib/python3.11/site-packages (from ipykernel>=4.5.1->ipywidgets>=7->nglview) (8.3.0)\n",
      "Requirement already satisfied: jupyter-core!=5.0.*,>=4.12 in /gpfs/gibbs/project/krishnaswamy_smita/kbg32/conda_envs/chem_relso_env/lib/python3.11/site-packages (from ipykernel>=4.5.1->ipywidgets>=7->nglview) (5.3.1)\n",
      "Requirement already satisfied: matplotlib-inline>=0.1 in /gpfs/gibbs/project/krishnaswamy_smita/kbg32/conda_envs/chem_relso_env/lib/python3.11/site-packages (from ipykernel>=4.5.1->ipywidgets>=7->nglview) (0.1.6)\n",
      "Requirement already satisfied: nest-asyncio in /gpfs/gibbs/project/krishnaswamy_smita/kbg32/conda_envs/chem_relso_env/lib/python3.11/site-packages (from ipykernel>=4.5.1->ipywidgets>=7->nglview) (1.5.6)\n",
      "Requirement already satisfied: packaging in /gpfs/gibbs/project/krishnaswamy_smita/kbg32/conda_envs/chem_relso_env/lib/python3.11/site-packages (from ipykernel>=4.5.1->ipywidgets>=7->nglview) (23.1)\n",
      "Requirement already satisfied: psutil in /gpfs/gibbs/project/krishnaswamy_smita/kbg32/conda_envs/chem_relso_env/lib/python3.11/site-packages (from ipykernel>=4.5.1->ipywidgets>=7->nglview) (5.9.5)\n",
      "Requirement already satisfied: pyzmq>=20 in /gpfs/gibbs/project/krishnaswamy_smita/kbg32/conda_envs/chem_relso_env/lib/python3.11/site-packages (from ipykernel>=4.5.1->ipywidgets>=7->nglview) (25.1.0)\n",
      "Requirement already satisfied: tornado>=6.1 in /gpfs/gibbs/project/krishnaswamy_smita/kbg32/conda_envs/chem_relso_env/lib/python3.11/site-packages (from ipykernel>=4.5.1->ipywidgets>=7->nglview) (6.3.2)\n",
      "Requirement already satisfied: backcall in /gpfs/gibbs/project/krishnaswamy_smita/kbg32/conda_envs/chem_relso_env/lib/python3.11/site-packages (from ipython>=6.1.0->ipywidgets>=7->nglview) (0.2.0)\n",
      "Requirement already satisfied: decorator in /gpfs/gibbs/project/krishnaswamy_smita/kbg32/conda_envs/chem_relso_env/lib/python3.11/site-packages (from ipython>=6.1.0->ipywidgets>=7->nglview) (5.1.1)\n",
      "Requirement already satisfied: jedi>=0.16 in /gpfs/gibbs/project/krishnaswamy_smita/kbg32/conda_envs/chem_relso_env/lib/python3.11/site-packages (from ipython>=6.1.0->ipywidgets>=7->nglview) (0.18.2)\n",
      "Requirement already satisfied: pickleshare in /gpfs/gibbs/project/krishnaswamy_smita/kbg32/conda_envs/chem_relso_env/lib/python3.11/site-packages (from ipython>=6.1.0->ipywidgets>=7->nglview) (0.7.5)\n",
      "Requirement already satisfied: prompt-toolkit!=3.0.37,<3.1.0,>=3.0.30 in /gpfs/gibbs/project/krishnaswamy_smita/kbg32/conda_envs/chem_relso_env/lib/python3.11/site-packages (from ipython>=6.1.0->ipywidgets>=7->nglview) (3.0.38)\n",
      "Requirement already satisfied: pygments>=2.4.0 in /gpfs/gibbs/project/krishnaswamy_smita/kbg32/conda_envs/chem_relso_env/lib/python3.11/site-packages (from ipython>=6.1.0->ipywidgets>=7->nglview) (2.15.1)\n",
      "Requirement already satisfied: stack-data in /gpfs/gibbs/project/krishnaswamy_smita/kbg32/conda_envs/chem_relso_env/lib/python3.11/site-packages (from ipython>=6.1.0->ipywidgets>=7->nglview) (0.6.2)\n",
      "Requirement already satisfied: pexpect>4.3 in /gpfs/gibbs/project/krishnaswamy_smita/kbg32/conda_envs/chem_relso_env/lib/python3.11/site-packages (from ipython>=6.1.0->ipywidgets>=7->nglview) (4.9.0)\n",
      "Requirement already satisfied: parso<0.9.0,>=0.8.0 in /gpfs/gibbs/project/krishnaswamy_smita/kbg32/conda_envs/chem_relso_env/lib/python3.11/site-packages (from jedi>=0.16->ipython>=6.1.0->ipywidgets>=7->nglview) (0.8.3)\n",
      "Requirement already satisfied: python-dateutil>=2.8.2 in /gpfs/gibbs/project/krishnaswamy_smita/kbg32/conda_envs/chem_relso_env/lib/python3.11/site-packages (from jupyter-client>=6.1.12->ipykernel>=4.5.1->ipywidgets>=7->nglview) (2.8.2)\n",
      "Requirement already satisfied: platformdirs>=2.5 in /gpfs/gibbs/project/krishnaswamy_smita/kbg32/conda_envs/chem_relso_env/lib/python3.11/site-packages (from jupyter-core!=5.0.*,>=4.12->ipykernel>=4.5.1->ipywidgets>=7->nglview) (4.2.2)\n",
      "Requirement already satisfied: ptyprocess>=0.5 in /gpfs/gibbs/project/krishnaswamy_smita/kbg32/conda_envs/chem_relso_env/lib/python3.11/site-packages (from pexpect>4.3->ipython>=6.1.0->ipywidgets>=7->nglview) (0.7.0)\n",
      "Requirement already satisfied: wcwidth in /gpfs/gibbs/project/krishnaswamy_smita/kbg32/conda_envs/chem_relso_env/lib/python3.11/site-packages (from prompt-toolkit!=3.0.37,<3.1.0,>=3.0.30->ipython>=6.1.0->ipywidgets>=7->nglview) (0.2.6)\n",
      "Requirement already satisfied: executing>=1.2.0 in /gpfs/gibbs/project/krishnaswamy_smita/kbg32/conda_envs/chem_relso_env/lib/python3.11/site-packages (from stack-data->ipython>=6.1.0->ipywidgets>=7->nglview) (1.2.0)\n",
      "Requirement already satisfied: asttokens>=2.1.0 in /gpfs/gibbs/project/krishnaswamy_smita/kbg32/conda_envs/chem_relso_env/lib/python3.11/site-packages (from stack-data->ipython>=6.1.0->ipywidgets>=7->nglview) (2.2.1)\n",
      "Requirement already satisfied: pure-eval in /gpfs/gibbs/project/krishnaswamy_smita/kbg32/conda_envs/chem_relso_env/lib/python3.11/site-packages (from stack-data->ipython>=6.1.0->ipywidgets>=7->nglview) (0.2.2)\n",
      "Requirement already satisfied: six in /gpfs/gibbs/project/krishnaswamy_smita/kbg32/conda_envs/chem_relso_env/lib/python3.11/site-packages (from asttokens>=2.1.0->stack-data->ipython>=6.1.0->ipywidgets>=7->nglview) (1.16.0)\n",
      "\u001b[33mWARNING: Ignoring invalid distribution ~andas (/gpfs/gibbs/project/krishnaswamy_smita/kbg32/conda_envs/chem_relso_env/lib/python3.11/site-packages)\u001b[0m\u001b[33m\n",
      "\u001b[0mEnabling notebook extension nglview-js-widgets/extension...\n",
      "      - Validating: \u001b[32mOK\u001b[0m\n",
      "Installing /gpfs/gibbs/project/krishnaswamy_smita/kbg32/conda_envs/chem_relso_env/lib/python3.11/site-packages/nglview/static -> nglview-js-widgets\n",
      "Copying: /gpfs/gibbs/project/krishnaswamy_smita/kbg32/conda_envs/chem_relso_env/lib/python3.11/site-packages/nglview/static/971364734f3b603e5d363a2634898b42.png -> /gpfs/gibbs/project/krishnaswamy_smita/kbg32/conda_envs/chem_relso_env/share/jupyter/nbextensions/nglview-js-widgets/971364734f3b603e5d363a2634898b42.png\n",
      "Copying: /gpfs/gibbs/project/krishnaswamy_smita/kbg32/conda_envs/chem_relso_env/lib/python3.11/site-packages/nglview/static/47d227801c1ad6c59d033bc151848c07.png -> /gpfs/gibbs/project/krishnaswamy_smita/kbg32/conda_envs/chem_relso_env/share/jupyter/nbextensions/nglview-js-widgets/47d227801c1ad6c59d033bc151848c07.png\n",
      "Copying: /gpfs/gibbs/project/krishnaswamy_smita/kbg32/conda_envs/chem_relso_env/lib/python3.11/site-packages/nglview/static/0de3b51742ed3ac61435875bccd8973b.png -> /gpfs/gibbs/project/krishnaswamy_smita/kbg32/conda_envs/chem_relso_env/share/jupyter/nbextensions/nglview-js-widgets/0de3b51742ed3ac61435875bccd8973b.png\n",
      "Copying: /gpfs/gibbs/project/krishnaswamy_smita/kbg32/conda_envs/chem_relso_env/lib/python3.11/site-packages/nglview/static/efbf84f0f6384f5c303ea15ebb299a08.png -> /gpfs/gibbs/project/krishnaswamy_smita/kbg32/conda_envs/chem_relso_env/share/jupyter/nbextensions/nglview-js-widgets/efbf84f0f6384f5c303ea15ebb299a08.png\n",
      "Copying: /gpfs/gibbs/project/krishnaswamy_smita/kbg32/conda_envs/chem_relso_env/lib/python3.11/site-packages/nglview/static/208a290102a4ada58a04de354a1354d7.png -> /gpfs/gibbs/project/krishnaswamy_smita/kbg32/conda_envs/chem_relso_env/share/jupyter/nbextensions/nglview-js-widgets/208a290102a4ada58a04de354a1354d7.png\n",
      "Copying: /gpfs/gibbs/project/krishnaswamy_smita/kbg32/conda_envs/chem_relso_env/lib/python3.11/site-packages/nglview/static/bf27228a7d3957983584fa7698121ea1.png -> /gpfs/gibbs/project/krishnaswamy_smita/kbg32/conda_envs/chem_relso_env/share/jupyter/nbextensions/nglview-js-widgets/bf27228a7d3957983584fa7698121ea1.png\n",
      "Copying: /gpfs/gibbs/project/krishnaswamy_smita/kbg32/conda_envs/chem_relso_env/lib/python3.11/site-packages/nglview/static/73a1fd052c9d84c0ee0bea3ee85892ed.png -> /gpfs/gibbs/project/krishnaswamy_smita/kbg32/conda_envs/chem_relso_env/share/jupyter/nbextensions/nglview-js-widgets/73a1fd052c9d84c0ee0bea3ee85892ed.png\n",
      "Copying: /gpfs/gibbs/project/krishnaswamy_smita/kbg32/conda_envs/chem_relso_env/lib/python3.11/site-packages/nglview/static/5e7882c25f80ead21c4b7fa3d8e7c1a3.png -> /gpfs/gibbs/project/krishnaswamy_smita/kbg32/conda_envs/chem_relso_env/share/jupyter/nbextensions/nglview-js-widgets/5e7882c25f80ead21c4b7fa3d8e7c1a3.png\n",
      "Up to date: /gpfs/gibbs/project/krishnaswamy_smita/kbg32/conda_envs/chem_relso_env/share/jupyter/nbextensions/nglview-js-widgets/index.js.map\n",
      "Copying: /gpfs/gibbs/project/krishnaswamy_smita/kbg32/conda_envs/chem_relso_env/lib/python3.11/site-packages/nglview/static/dd8125ead27254818e47e1a08814e83a.png -> /gpfs/gibbs/project/krishnaswamy_smita/kbg32/conda_envs/chem_relso_env/share/jupyter/nbextensions/nglview-js-widgets/dd8125ead27254818e47e1a08814e83a.png\n",
      "Copying: /gpfs/gibbs/project/krishnaswamy_smita/kbg32/conda_envs/chem_relso_env/lib/python3.11/site-packages/nglview/static/f83a8b8886694eaef4505dd80af7a430.png -> /gpfs/gibbs/project/krishnaswamy_smita/kbg32/conda_envs/chem_relso_env/share/jupyter/nbextensions/nglview-js-widgets/f83a8b8886694eaef4505dd80af7a430.png\n",
      "Copying: /gpfs/gibbs/project/krishnaswamy_smita/kbg32/conda_envs/chem_relso_env/lib/python3.11/site-packages/nglview/static/91b1966e761a8e0c0b83450f676e8fe4.png -> /gpfs/gibbs/project/krishnaswamy_smita/kbg32/conda_envs/chem_relso_env/share/jupyter/nbextensions/nglview-js-widgets/91b1966e761a8e0c0b83450f676e8fe4.png\n",
      "Copying: /gpfs/gibbs/project/krishnaswamy_smita/kbg32/conda_envs/chem_relso_env/lib/python3.11/site-packages/nglview/static/a4c733ec4baef9ad3896d4e34a8a5448.png -> /gpfs/gibbs/project/krishnaswamy_smita/kbg32/conda_envs/chem_relso_env/share/jupyter/nbextensions/nglview-js-widgets/a4c733ec4baef9ad3896d4e34a8a5448.png\r\n",
      "Up to date: /gpfs/gibbs/project/krishnaswamy_smita/kbg32/conda_envs/chem_relso_env/share/jupyter/nbextensions/nglview-js-widgets/extension.js\r\n",
      "Up to date: /gpfs/gibbs/project/krishnaswamy_smita/kbg32/conda_envs/chem_relso_env/share/jupyter/nbextensions/nglview-js-widgets/index.js\r\n",
      "- Validating: \u001b[32mOK\u001b[0m\r\n",
      "\r\n",
      "    To initialize this nbextension in the browser every time the notebook (or other app) loads:\r\n",
      "    \r\n",
      "          jupyter nbextension enable nglview --py --sys-prefix\r\n",
      "    \r\n"
     ]
    }
   ],
   "source": [
    "# Install nglview if not already installed\n",
    "!pip install nglview\n",
    "!jupyter-nbextension enable nglview --py --sys-prefix\n",
    "!jupyter-nbextension install nglview --py --sys-prefix"
   ]
  },
  {
   "cell_type": "code",
   "execution_count": 1,
   "id": "358da8af",
   "metadata": {},
   "outputs": [
    {
     "data": {
      "application/vnd.jupyter.widget-view+json": {
       "model_id": "7abfde1331814dffbc95777304540880",
       "version_major": 2,
       "version_minor": 0
      },
      "text/plain": []
     },
     "metadata": {},
     "output_type": "display_data"
    }
   ],
   "source": [
    "import nglview as nv\n",
    "# Load and visualize the PDB file\n",
    "view = nv.show_file(\"test_example.pdb\")"
   ]
  },
  {
   "cell_type": "markdown",
   "id": "d47f09c0",
   "metadata": {},
   "source": [
    "# Simple example to color MHC and peptide differently "
   ]
  },
  {
   "cell_type": "code",
   "execution_count": 2,
   "id": "f83f537e",
   "metadata": {},
   "outputs": [
    {
     "data": {
      "application/vnd.jupyter.widget-view+json": {
       "model_id": "39028e4d87ae4337aadab0735b5127e9",
       "version_major": 2,
       "version_minor": 0
      },
      "text/plain": [
       "NGLWidget(layout=Layout(height='600px', width='800px'))"
      ]
     },
     "metadata": {},
     "output_type": "display_data"
    }
   ],
   "source": [
    "\n",
    "# Load and visualize the PDB file\n",
    "view = nv.show_file(\"test_example.pdb\")\n",
    "\n",
    "# Set the size of the widget\n",
    "view.layout.width = '800px'  # You can adjust the width\n",
    "view.layout.height = '600px'  # You can adjust the height\n",
    "\n",
    "view.clear_representations()\n",
    "\n",
    "\n",
    "\n",
    "#view.add_representation('ball+stick', color='orange')\n",
    "view.add_representation('spacefill', selection='protein and :A', color='grey')\n",
    "view.add_representation('spacefill', selection='protein and :B', color='blue')\n",
    "\n",
    "\n",
    "\n",
    "# Display the structure\n",
    "view"
   ]
  },
  {
   "cell_type": "markdown",
   "id": "821b1851",
   "metadata": {},
   "source": [
    "# More complex example to color pre-defined residues and node-node attention interactions"
   ]
  },
  {
   "cell_type": "code",
   "execution_count": 3,
   "id": "f2a6d8c1",
   "metadata": {},
   "outputs": [
    {
     "data": {
      "application/vnd.jupyter.widget-view+json": {
       "model_id": "ba7df3d3d6804fe8a6e05813fd2deee8",
       "version_major": 2,
       "version_minor": 0
      },
      "text/plain": [
       "NGLWidget(background='black', layout=Layout(height='800px', width='900px'))"
      ]
     },
     "metadata": {},
     "output_type": "display_data"
    }
   ],
   "source": [
    "#color residues by specific colors:\n",
    "\n",
    "\n",
    "\n",
    "color_residue_map = [\n",
    " ['yellow', '1:B'],\n",
    " ['#31faeb', '2:B'],\n",
    " ['#31faeb', '3:B'],\n",
    " ['#31faeb', '4:B'],\n",
    " ['#31faeb', '5:B'],\n",
    " ['#31faeb', '6:B'],\n",
    " ['#31faeb', '7:B'],\n",
    " ['yellow', '8:B'],\n",
    " ['yellow', '9:B'],\n",
    " ['#31faeb', '10:B'],\n",
    " ['#31faeb', '11:B'],\n",
    "['yellow', '151:A'],\n",
    "['yellow', '58:A'],\n",
    "['yellow', '44:A']]                    \n",
    "\n",
    "\n",
    "color_scheme = nv.color._ColorScheme(color_residue_map, label=\"#interactions\")\n",
    "\n",
    "\n",
    "view = nv.show_file(\"test_example.pdb\")\n",
    "view.clear_representations()\n",
    "\n",
    "\n",
    "view.add_representation(\n",
    "    \"surface\",\n",
    "    selection=\"protein and :A\",\n",
    "    color=color_scheme,\n",
    ")\n",
    "\n",
    "view.add_representation(\n",
    "    \"surface\",\n",
    "    selection=\"protein and :B\",\n",
    "    color=color_scheme,\n",
    ")\n",
    "\n",
    "\n",
    "#show highly weighted interactions, for example here amino acid 3 on chain B \n",
    "#is interacting with amino acid 163 on chain A\n",
    "\n",
    "\n",
    "interaction_pairs = [\n",
    "    ('1:B', 91), \n",
    "    ('2:B', 44),\n",
    "    ('3:B', 172), \n",
    "    ('4:B', 138),\n",
    "    ('5:B', 128),\n",
    "    ('6:B', 127), \n",
    "    ('7:B', 172),\n",
    "    ('8:B', 63),\n",
    "    ('9:B', 170),\n",
    "    ('10:B', 170)] \n",
    "\n",
    "# Draw interactions onto the structure\n",
    "for index1, index2 in interaction_pairs:\n",
    "    view.add_representation('distance', atomPair=[[index1, index2]], labelVisible=False, color='yellow')\n",
    "\n",
    "\n",
    "view.layout.width = '900px'  \n",
    "view.layout.height = '800px'\n",
    "view.background = 'black'\n",
    "view"
   ]
  },
  {
   "cell_type": "code",
   "execution_count": null,
   "id": "0e1b8d3a",
   "metadata": {},
   "outputs": [],
   "source": []
  },
  {
   "cell_type": "code",
   "execution_count": null,
   "id": "bab0324c",
   "metadata": {},
   "outputs": [],
   "source": []
  }
 ],
 "metadata": {
  "kernelspec": {
   "display_name": "Python 3 (ipykernel)",
   "language": "python",
   "name": "python3"
  },
  "language_info": {
   "codemirror_mode": {
    "name": "ipython",
    "version": 3
   },
   "file_extension": ".py",
   "mimetype": "text/x-python",
   "name": "python",
   "nbconvert_exporter": "python",
   "pygments_lexer": "ipython3",
   "version": "3.11.4"
  }
 },
 "nbformat": 4,
 "nbformat_minor": 5
}
